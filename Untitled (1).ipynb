{
 "cells": [
  {
   "cell_type": "code",
   "execution_count": null,
   "id": "1652c2c9-eef7-490c-8635-0665a6e0114b",
   "metadata": {},
   "outputs": [],
   "source": [
    "gajiperjam = float(input(\"Masukkan nominal gaji yang anda inginkan:\\n Rp\"))\n",
    "jumlahjam = float(input(\"Jumlah jam kerja yang akan dilakukan dalam 1 minggu:\\n\"))\n",
    "\n",
    "def penghasilan(gaji, jam):\n",
    "    gajikotor = gaji * jam * 5\n",
    "    return gajikotor\n",
    "\n",
    "gajikotor = penghasilan(gajiperjam, jumlahjam)\n",
    "totalpajak = (14 / 100) * gajikotor\n",
    "gajisetelahpajak =  gajikotor - totalpajak\n",
    "totalbelanja = (10 / 100) * gajisetelahpajak\n",
    "belanjaalattulis = (1 / 100) * gajisetelahpajak\n",
    "sisagaji =  gajisetelahpajak - totalbelanja - belanjaalattulis\n",
    "sedekah = (25 / 100) * sisagaji\n",
    "sedekahanakyatim = (30 / 100) * sedekah\n",
    "sedekahkaumdhufa = (70 / 100) * sedekah\n",
    "\n",
    "    \n",
    "\n",
    "print(\"Pendapatan Budi selama libur sebelum pembayaran pajak: Rp \", round(gajikotor))\n",
    "print(\"Pendapatan Budi selama libur setelah pembayaran pajak: Rp\", round(gajisetelahpajak))\n",
    "print(\"Jumlah uang yang akan Budi habiskan untuk membeli pakaian dan aksesoris: Rp\", round(totalbelanja))\n",
    "print(\"Jumlah uang yang akan Budi habiskan untuk membeli alat tulis: Rp\", round(belanjaalattulis))\n",
    "print(\"Jumlah uang yang akan Budi sedekahkan: Rp\", round(sedekah))\n",
    "print(\"Jumlah uang yang akan diterima anak yatim: Rp\", round(sedekahanakyatim))\n",
    "print(\"Jumlah uang yang akan diterima kaum dhuafa: Rp\", round(sedekahkaumdhufa))\n"
   ]
  },
  {
   "cell_type": "code",
   "execution_count": null,
   "id": "a7e4fdca-b9ca-4f37-b306-d7a1e7738b13",
   "metadata": {},
   "outputs": [],
   "source": []
  }
 ],
 "metadata": {
  "kernelspec": {
   "display_name": "Python [conda env:base] *",
   "language": "python",
   "name": "conda-base-py"
  },
  "language_info": {
   "codemirror_mode": {
    "name": "ipython",
    "version": 3
   },
   "file_extension": ".py",
   "mimetype": "text/x-python",
   "name": "python",
   "nbconvert_exporter": "python",
   "pygments_lexer": "ipython3",
   "version": "3.12.7"
  }
 },
 "nbformat": 4,
 "nbformat_minor": 5
}
