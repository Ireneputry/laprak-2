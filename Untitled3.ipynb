{
 "cells": [
  {
   "cell_type": "code",
   "execution_count": null,
   "id": "71c9e95d-fbc4-49a6-afeb-adb4e0471eb6",
   "metadata": {},
   "outputs": [],
   "source": [
    "tinggi_badan = float(input(\"Berapa tinggi badan anda saat ini (cm):\\n\")) / 100\n",
    "BMI  = float(input(\"Berapa BMI yang diinginkan:\\n\"))\n",
    "\n",
    "def berat(bmi, tinggi):\n",
    "    beratideal = bmi * (tinggi**2)\n",
    "    return beratideal\n",
    "\n",
    "hasil = berat(BMI, tinggi_badan)\n",
    "print(\"Berat badan yang diperlukan:\", round(hasil), \"kg\")\n"
   ]
  }
 ],
 "metadata": {
  "kernelspec": {
   "display_name": "Python [conda env:base] *",
   "language": "python",
   "name": "conda-base-py"
  },
  "language_info": {
   "codemirror_mode": {
    "name": "ipython",
    "version": 3
   },
   "file_extension": ".py",
   "mimetype": "text/x-python",
   "name": "python",
   "nbconvert_exporter": "python",
   "pygments_lexer": "ipython3",
   "version": "3.12.7"
  }
 },
 "nbformat": 4,
 "nbformat_minor": 5
}
